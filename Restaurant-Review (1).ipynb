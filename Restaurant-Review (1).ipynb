{
 "cells": [
  {
   "cell_type": "markdown",
   "id": "e4dfd4be",
   "metadata": {},
   "source": [
    "# Project : Restaurant positive and negative reviews prediction using Neural Network"
   ]
  },
  {
   "cell_type": "markdown",
   "id": "db8b68b9",
   "metadata": {},
   "source": [
    "# Read data"
   ]
  },
  {
   "cell_type": "code",
   "execution_count": 3,
   "id": "d46d713a",
   "metadata": {},
   "outputs": [],
   "source": [
    "from warnings import filterwarnings\n",
    "filterwarnings(\"ignore\")\n",
    "import pandas as mt\n",
    "A = mt.read_csv(\"C:/Users/SHREE/Desktop/Data/Restaurant_Reviews.tsv\",sep='\\t')"
   ]
  },
  {
   "cell_type": "markdown",
   "id": "d74987d0",
   "metadata": {},
   "source": [
    "# Preview"
   ]
  },
  {
   "cell_type": "code",
   "execution_count": 4,
   "id": "46e4bc86",
   "metadata": {},
   "outputs": [
    {
     "data": {
      "text/html": [
       "<div>\n",
       "<style scoped>\n",
       "    .dataframe tbody tr th:only-of-type {\n",
       "        vertical-align: middle;\n",
       "    }\n",
       "\n",
       "    .dataframe tbody tr th {\n",
       "        vertical-align: top;\n",
       "    }\n",
       "\n",
       "    .dataframe thead th {\n",
       "        text-align: right;\n",
       "    }\n",
       "</style>\n",
       "<table border=\"1\" class=\"dataframe\">\n",
       "  <thead>\n",
       "    <tr style=\"text-align: right;\">\n",
       "      <th></th>\n",
       "      <th>Review</th>\n",
       "      <th>Liked</th>\n",
       "    </tr>\n",
       "  </thead>\n",
       "  <tbody>\n",
       "    <tr>\n",
       "      <th>0</th>\n",
       "      <td>Wow... Loved this place.</td>\n",
       "      <td>1</td>\n",
       "    </tr>\n",
       "    <tr>\n",
       "      <th>1</th>\n",
       "      <td>Crust is not good.</td>\n",
       "      <td>0</td>\n",
       "    </tr>\n",
       "    <tr>\n",
       "      <th>2</th>\n",
       "      <td>Not tasty and the texture was just nasty.</td>\n",
       "      <td>0</td>\n",
       "    </tr>\n",
       "    <tr>\n",
       "      <th>3</th>\n",
       "      <td>Stopped by during the late May bank holiday of...</td>\n",
       "      <td>1</td>\n",
       "    </tr>\n",
       "    <tr>\n",
       "      <th>4</th>\n",
       "      <td>The selection on the menu was great and so wer...</td>\n",
       "      <td>1</td>\n",
       "    </tr>\n",
       "    <tr>\n",
       "      <th>5</th>\n",
       "      <td>Now I am getting angry and I want my damn pho.</td>\n",
       "      <td>0</td>\n",
       "    </tr>\n",
       "    <tr>\n",
       "      <th>6</th>\n",
       "      <td>Honeslty it didn't taste THAT fresh.)</td>\n",
       "      <td>0</td>\n",
       "    </tr>\n",
       "    <tr>\n",
       "      <th>7</th>\n",
       "      <td>The potatoes were like rubber and you could te...</td>\n",
       "      <td>0</td>\n",
       "    </tr>\n",
       "    <tr>\n",
       "      <th>8</th>\n",
       "      <td>The fries were great too.</td>\n",
       "      <td>1</td>\n",
       "    </tr>\n",
       "    <tr>\n",
       "      <th>9</th>\n",
       "      <td>A great touch.</td>\n",
       "      <td>1</td>\n",
       "    </tr>\n",
       "  </tbody>\n",
       "</table>\n",
       "</div>"
      ],
      "text/plain": [
       "                                              Review  Liked\n",
       "0                           Wow... Loved this place.      1\n",
       "1                                 Crust is not good.      0\n",
       "2          Not tasty and the texture was just nasty.      0\n",
       "3  Stopped by during the late May bank holiday of...      1\n",
       "4  The selection on the menu was great and so wer...      1\n",
       "5     Now I am getting angry and I want my damn pho.      0\n",
       "6              Honeslty it didn't taste THAT fresh.)      0\n",
       "7  The potatoes were like rubber and you could te...      0\n",
       "8                          The fries were great too.      1\n",
       "9                                     A great touch.      1"
      ]
     },
     "execution_count": 4,
     "metadata": {},
     "output_type": "execute_result"
    }
   ],
   "source": [
    "A.head(10)"
   ]
  },
  {
   "cell_type": "markdown",
   "id": "0e90a81a",
   "metadata": {},
   "source": [
    "# Removing Special symbols"
   ]
  },
  {
   "cell_type": "code",
   "execution_count": 34,
   "id": "661b6283",
   "metadata": {},
   "outputs": [],
   "source": [
    "Q = []\n",
    "from re import sub\n",
    "for i in A.Review:\n",
    "    Q.append(sub(\"[^a-zA-Z0-9 ]\",\"\",i.upper()))"
   ]
  },
  {
   "cell_type": "markdown",
   "id": "2737833d",
   "metadata": {},
   "source": [
    "# Create a CountVectorizer"
   ]
  },
  {
   "cell_type": "code",
   "execution_count": 35,
   "id": "594a24de",
   "metadata": {},
   "outputs": [],
   "source": [
    "from sklearn.feature_extraction.text import CountVectorizer\n",
    "cv = CountVectorizer()\n",
    "word_vect =cv.fit_transform(Q).toarray()"
   ]
  },
  {
   "cell_type": "code",
   "execution_count": 36,
   "id": "98320492",
   "metadata": {},
   "outputs": [],
   "source": [
    "words =cv.get_feature_names()"
   ]
  },
  {
   "cell_type": "markdown",
   "id": "5ee3d8d5",
   "metadata": {},
   "source": [
    "# Define X and Y"
   ]
  },
  {
   "cell_type": "code",
   "execution_count": 39,
   "id": "3bbdc139",
   "metadata": {},
   "outputs": [],
   "source": [
    "Y = A.Liked\n",
    "X = word_vect"
   ]
  },
  {
   "cell_type": "markdown",
   "id": "1b9f5daa",
   "metadata": {},
   "source": [
    "# Divide data in training and testing"
   ]
  },
  {
   "cell_type": "code",
   "execution_count": 40,
   "id": "132d8e79",
   "metadata": {},
   "outputs": [],
   "source": [
    "from sklearn.model_selection import train_test_split\n",
    "xtrain,xtest,ytrain,ytest=train_test_split(X,Y,random_state=21,test_size=0.2)"
   ]
  },
  {
   "cell_type": "code",
   "execution_count": 41,
   "id": "655ccb80",
   "metadata": {},
   "outputs": [
    {
     "data": {
      "text/plain": [
       "(1000, 2067)"
      ]
     },
     "execution_count": 41,
     "metadata": {},
     "output_type": "execute_result"
    }
   ],
   "source": [
    "X.shape"
   ]
  },
  {
   "cell_type": "markdown",
   "id": "7758b988",
   "metadata": {},
   "source": [
    "# Create a Artificial Neural Network"
   ]
  },
  {
   "cell_type": "code",
   "execution_count": 42,
   "id": "b83814bc",
   "metadata": {},
   "outputs": [],
   "source": [
    "from keras.models import Sequential\n",
    "from keras.layers import Dense,Dropout"
   ]
  },
  {
   "cell_type": "code",
   "execution_count": 45,
   "id": "f2ca6c66",
   "metadata": {},
   "outputs": [],
   "source": [
    "nn = Sequential()\n",
    "nn.add(Dense(1000,input_dim=(2067)))\n",
    "nn.add(Dropout(0.8))\n",
    "nn.add(Dense(1000))\n",
    "nn.add(Dropout(0.8))\n",
    "nn.add(Dense(1,activation=\"sigmoid\"))"
   ]
  },
  {
   "cell_type": "code",
   "execution_count": 47,
   "id": "b1acc268",
   "metadata": {},
   "outputs": [
    {
     "name": "stdout",
     "output_type": "stream",
     "text": [
      "Epoch 1/10\n",
      "25/25 [==============================] - 2s 53ms/step - loss: 0.6597 - accuracy: 0.6288\n",
      "Epoch 2/10\n",
      "25/25 [==============================] - 1s 49ms/step - loss: 0.5213 - accuracy: 0.7525\n",
      "Epoch 3/10\n",
      "25/25 [==============================] - 1s 53ms/step - loss: 0.3910 - accuracy: 0.8250\n",
      "Epoch 4/10\n",
      "25/25 [==============================] - 1s 50ms/step - loss: 0.2903 - accuracy: 0.8900\n",
      "Epoch 5/10\n",
      "25/25 [==============================] - 1s 52ms/step - loss: 0.2106 - accuracy: 0.9275\n",
      "Epoch 6/10\n",
      "25/25 [==============================] - 1s 49ms/step - loss: 0.1755 - accuracy: 0.9325\n",
      "Epoch 7/10\n",
      "25/25 [==============================] - 1s 53ms/step - loss: 0.1324 - accuracy: 0.9488\n",
      "Epoch 8/10\n",
      "25/25 [==============================] - 1s 53ms/step - loss: 0.1115 - accuracy: 0.9538\n",
      "Epoch 9/10\n",
      "25/25 [==============================] - 1s 50ms/step - loss: 0.0939 - accuracy: 0.9700\n",
      "Epoch 10/10\n",
      "25/25 [==============================] - 1s 55ms/step - loss: 0.0838 - accuracy: 0.9750\n"
     ]
    },
    {
     "data": {
      "text/plain": [
       "<keras.callbacks.History at 0x168ee671160>"
      ]
     },
     "execution_count": 47,
     "metadata": {},
     "output_type": "execute_result"
    }
   ],
   "source": [
    "nn.compile(loss=\"binary_crossentropy\",metrics=\"accuracy\")\n",
    "nn.fit(xtrain,ytrain,epochs=10)"
   ]
  },
  {
   "cell_type": "markdown",
   "id": "9563e8b1",
   "metadata": {},
   "source": [
    "# Testing"
   ]
  },
  {
   "cell_type": "code",
   "execution_count": 48,
   "id": "1ec0e9bd",
   "metadata": {},
   "outputs": [],
   "source": [
    "Q = []\n",
    "for i in nn.predict(xtest):\n",
    "    if(i[0] < 0.05):\n",
    "        Q.append(0)\n",
    "    else:\n",
    "        Q.append(1)\n",
    "    \n",
    "    "
   ]
  },
  {
   "cell_type": "code",
   "execution_count": 49,
   "id": "69ca8735",
   "metadata": {},
   "outputs": [
    {
     "data": {
      "text/plain": [
       "0.745"
      ]
     },
     "execution_count": 49,
     "metadata": {},
     "output_type": "execute_result"
    }
   ],
   "source": [
    "from sklearn.metrics import accuracy_score\n",
    "accuracy_score(ytest,Q)"
   ]
  },
  {
   "cell_type": "markdown",
   "id": "f58a0e4c",
   "metadata": {},
   "source": [
    "# Predicting own data"
   ]
  },
  {
   "cell_type": "code",
   "execution_count": 50,
   "id": "ff38b6f3",
   "metadata": {},
   "outputs": [],
   "source": [
    "Rev = \"I did not like the soup\""
   ]
  },
  {
   "cell_type": "code",
   "execution_count": 51,
   "id": "874cee84",
   "metadata": {},
   "outputs": [],
   "source": [
    "rev1 = cv.transform([Rev.upper()]).toarray()"
   ]
  },
  {
   "cell_type": "code",
   "execution_count": 57,
   "id": "9b3e142d",
   "metadata": {},
   "outputs": [],
   "source": [
    "pred=nn.predict(rev1)[0]"
   ]
  },
  {
   "cell_type": "code",
   "execution_count": 64,
   "id": "e0e2ade6",
   "metadata": {},
   "outputs": [
    {
     "data": {
      "text/plain": [
       "array([[0.02825552]], dtype=float32)"
      ]
     },
     "execution_count": 64,
     "metadata": {},
     "output_type": "execute_result"
    }
   ],
   "source": [
    "nn.predict(rev1)"
   ]
  },
  {
   "cell_type": "code",
   "execution_count": null,
   "id": "7836edbf",
   "metadata": {},
   "outputs": [],
   "source": []
  }
 ],
 "metadata": {
  "kernelspec": {
   "display_name": "Python 3 (ipykernel)",
   "language": "python",
   "name": "python3"
  },
  "language_info": {
   "codemirror_mode": {
    "name": "ipython",
    "version": 3
   },
   "file_extension": ".py",
   "mimetype": "text/x-python",
   "name": "python",
   "nbconvert_exporter": "python",
   "pygments_lexer": "ipython3",
   "version": "3.8.13"
  }
 },
 "nbformat": 4,
 "nbformat_minor": 5
}
